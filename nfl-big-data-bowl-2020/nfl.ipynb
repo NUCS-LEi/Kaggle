{
 "cells": [
  {
   "cell_type": "code",
   "execution_count": 1,
   "metadata": {},
   "outputs": [
    {
     "name": "stderr",
     "output_type": "stream",
     "text": [
      "Using TensorFlow backend.\n"
     ]
    }
   ],
   "source": [
    "from kaggle.competitions import nflrush\n",
    "import pandas as pd\n",
    "import keras\n",
    "from keras import models\n",
    "from keras import layers\n",
    "from tensorflow.keras import backend\n",
    "import numpy as np\n",
    "import datetime\n",
    "\n",
    "env = nflrush.make_env()\n",
    "# train_df = pd.read_csv('train.csv', low_memory=False)\n",
    "train_df = pd.read_csv('/kaggle/input/nfl-big-data-bowl-2020/train.csv', low_memory=False)"
   ]
  },
  {
   "cell_type": "code",
   "execution_count": 2,
   "metadata": {},
   "outputs": [],
   "source": [
    "def standardization(k, m):\n",
    "    if k not in m:\n",
    "        m[k] = len(m) + 1\n",
    "    return m[k]\n",
    "\n",
    "NflId, Team, OffenseFormation, OffensePersonnel, DefensePersonnel, PlayDirection, Position, Stadium, \\\n",
    "GameWeather, WindDirection, PlayerCollegeName = {}, {}, {}, {}, {}, {}, {}, {}, {}, {}, {}\n",
    "\n",
    "def process(train_df, mean = [], std = [], pred = False):\n",
    "    plays = int(len(train_df) / 22)\n",
    "    play, attr = 0, 15\n",
    "    X = np.zeros((plays, attr * 22 + 25))\n",
    "    Y = np.zeros((plays, 199))\n",
    "    for index, row in train_df.iterrows():\n",
    "        i = index % 22 if pred else index\n",
    "        if play % 22 == 0:\n",
    "            play = 0\n",
    "        PlayerHeight = row['PlayerHeight'].split('-')\n",
    "        TimeHandoff = datetime.datetime.strptime(row['TimeHandoff'], '%Y-%m-%dT%H:%M:%S.%fZ')\n",
    "        TimeSnap = datetime.datetime.strptime(row['TimeSnap'], '%Y-%m-%dT%H:%M:%S.%fZ')\n",
    "        PlayerBirthDate = datetime.datetime.strptime(row['PlayerBirthDate'], '%m/%d/%Y')\n",
    "        GameClock = row['GameClock'].split(':')\n",
    "        WindSpeed = row['WindSpeed']\n",
    "\n",
    "        if isinstance(WindSpeed, str) and not WindSpeed.isnumeric():\n",
    "            WindSpeed = WindSpeed.lower().replace(' ', '').replace('mph', '')\n",
    "        if isinstance(WindSpeed, str) and not WindSpeed.isnumeric():\n",
    "            WindSpeed = WindSpeed.split('-')\n",
    "            if len(WindSpeed) == 2 and WindSpeed[0].isnumeric() and WindSpeed[1].isnumeric():\n",
    "                WindSpeed = (int(WindSpeed[0]) + int(WindSpeed[1])) / 2\n",
    "            else:\n",
    "                WindSpeed = 0\n",
    "        \n",
    "        X[int(i / 22)][attr * play + 0] = standardization(row['NflId'], NflId)\n",
    "        X[int(i / 22)][attr * play + 1] = standardization(row['HomeTeamAbbr'] if row['Team'] == 'home' else row['VisitorTeamAbbr'], Team)\n",
    "        X[int(i / 22)][attr * play + 2] = row['X']\n",
    "        X[int(i / 22)][attr * play + 3] = row['Y']\n",
    "        X[int(i / 22)][attr * play + 4] = row['S']\n",
    "        X[int(i / 22)][attr * play + 5] = row['A']\n",
    "        X[int(i / 22)][attr * play + 6] = row['Dis']\n",
    "        X[int(i / 22)][attr * play + 7] = row['Orientation']\n",
    "        X[int(i / 22)][attr * play + 8] = row['Dir']\n",
    "        X[int(i / 22)][attr * play + 9] = 1 if row['NflId'] == row['NflIdRusher'] else 0\n",
    "        X[int(i / 22)][attr * play + 10] = int(PlayerHeight[0]) * 12 + int(PlayerHeight[1])\n",
    "        X[int(i / 22)][attr * play + 11] = row['PlayerWeight']\n",
    "        X[int(i / 22)][attr * play + 12] = (TimeHandoff - PlayerBirthDate).days\n",
    "        X[int(i / 22)][attr * play + 13] = standardization(row['PlayerCollegeName'], PlayerCollegeName)\n",
    "        X[int(i / 22)][attr * play + 14] = standardization(row['Position'], Position)\n",
    "        X[int(i / 22)][attr * 22 + 0] = row['YardLine']\n",
    "        X[int(i / 22)][attr * 22 + 1] = row['Quarter']\n",
    "        X[int(i / 22)][attr * 22 + 2] = int(GameClock[0]) * 60 + int(GameClock[1])\n",
    "        X[int(i / 22)][attr * 22 + 3] = standardization(row['PossessionTeam'], Team)\n",
    "        X[int(i / 22)][attr * 22 + 4] = row['Down']\n",
    "        X[int(i / 22)][attr * 22 + 5] = row['Distance']\n",
    "        X[int(i / 22)][attr * 22 + 6] = standardization(row['FieldPosition'], Team)\n",
    "        X[int(i / 22)][attr * 22 + 7] = row['HomeScoreBeforePlay']\n",
    "        X[int(i / 22)][attr * 22 + 8] = row['VisitorScoreBeforePlay']\n",
    "        X[int(i / 22)][attr * 22 + 9] = standardization(row['OffenseFormation'], OffenseFormation)\n",
    "        X[int(i / 22)][attr * 22 + 10] = standardization(row['OffensePersonnel'], OffensePersonnel)\n",
    "        X[int(i / 22)][attr * 22 + 11] = row['DefendersInTheBox']\n",
    "        X[int(i / 22)][attr * 22 + 12] = standardization(row['DefensePersonnel'], DefensePersonnel)\n",
    "        X[int(i / 22)][attr * 22 + 13] = standardization(row['PlayDirection'], PlayDirection)\n",
    "        X[int(i / 22)][attr * 22 + 14] = (TimeHandoff - TimeHandoff.replace(hour=0, minute=0, second=0, microsecond=0)).total_seconds()\n",
    "        X[int(i / 22)][attr * 22 + 15] = (TimeHandoff - TimeSnap).total_seconds()\n",
    "        X[int(i / 22)][attr * 22 + 16] = standardization(row['HomeTeamAbbr'], Team)\n",
    "        X[int(i / 22)][attr * 22 + 17] = standardization(row['VisitorTeamAbbr'], Team)\n",
    "        X[int(i / 22)][attr * 22 + 18] = row['Week']\n",
    "        X[int(i / 22)][attr * 22 + 19] = standardization(row['Stadium'], Stadium)\n",
    "        X[int(i / 22)][attr * 22 + 20] = standardization(row['GameWeather'], GameWeather)\n",
    "        X[int(i / 22)][attr * 22 + 21] = row['Temperature'] if row['Temperature'] else 0\n",
    "        X[int(i / 22)][attr * 22 + 22] = row['Humidity']\n",
    "        X[int(i / 22)][attr * 22 + 23] = WindSpeed\n",
    "        X[int(i / 22)][attr * 22 + 24] = standardization(row['WindDirection'], WindDirection)\n",
    "        play += 1\n",
    "        if not pred:\n",
    "            Y[int(i / 22)][row['Yards'] + 99] = 1.0\n",
    "    X[np.isnan(X)] = 0\n",
    "#     np.savetxt('X.csv', X, delimiter=',')\n",
    "#     np.savetxt('Y.csv', Y, delimiter=',')        \n",
    "    if len(mean) == 0:\n",
    "        mean = np.mean(X, axis = 0)\n",
    "    if len(std) == 0:\n",
    "        std = np.std(X, axis = 0)\n",
    "    X = X - mean\n",
    "    np.savetxt('X_mean.csv', X, delimiter=',')\n",
    "    X = X / std\n",
    "    train_X, train_Y, dev_X, dev_Y = X, Y, None, None\n",
    "#     np.savetxt('train_X.csv', train_X, delimiter=',')\n",
    "#     np.savetxt('train_Y.csv', train_Y, delimiter=',')\n",
    "#     np.savetxt('mean.csv', mean, delimiter=',')\n",
    "#     np.savetxt('std.csv', std, delimiter=',')\n",
    "    if not pred:\n",
    "        train_X = X[:int(len(X) * 0.9)]\n",
    "        train_Y = Y[:int(len(Y) * 0.9)]\n",
    "        dev_X = X[int(len(X) * 0.9) + 1:]\n",
    "        dev_Y = Y[int(len(Y) * 0.9) + 1:]\n",
    "    return train_X, train_Y, dev_X, dev_Y, mean, std"
   ]
  },
  {
   "cell_type": "code",
   "execution_count": 3,
   "metadata": {},
   "outputs": [
    {
     "name": "stderr",
     "output_type": "stream",
     "text": [
      "WARNING - From /usr/local/lib/python3.6/dist-packages/tensorflow/python/framework/op_def_library.py:263: colocate_with (from tensorflow.python.framework.ops) is deprecated and will be removed in a future version.\n",
      "Instructions for updating:\n",
      "Colocations handled automatically by placer.\n",
      "WARNING - From /usr/local/lib/python3.6/dist-packages/tensorflow/python/ops/math_ops.py:3066: to_int32 (from tensorflow.python.ops.math_ops) is deprecated and will be removed in a future version.\n",
      "Instructions for updating:\n",
      "Use tf.cast instead.\n"
     ]
    },
    {
     "name": "stdout",
     "output_type": "stream",
     "text": [
      "Train on 20853 samples, validate on 2317 samples\n",
      "Epoch 1/50\n",
      "20853/20853 [==============================] - 13s 629us/step - loss: 2.9523 - categorical_accuracy: 0.1213 - val_loss: 2.9254 - val_categorical_accuracy: 0.1308\n",
      "Epoch 2/50\n",
      "20853/20853 [==============================] - 13s 613us/step - loss: 2.8683 - categorical_accuracy: 0.1318 - val_loss: 2.9004 - val_categorical_accuracy: 0.1347\n",
      "Epoch 3/50\n",
      "20853/20853 [==============================] - 13s 614us/step - loss: 2.8335 - categorical_accuracy: 0.1370 - val_loss: 2.9619 - val_categorical_accuracy: 0.1131\n",
      "Epoch 4/50\n",
      "20853/20853 [==============================] - 13s 612us/step - loss: 2.7921 - categorical_accuracy: 0.1485 - val_loss: 2.9313 - val_categorical_accuracy: 0.1213\n",
      "Epoch 5/50\n",
      "20853/20853 [==============================] - 13s 611us/step - loss: 2.7342 - categorical_accuracy: 0.1537 - val_loss: 2.9893 - val_categorical_accuracy: 0.1299\n",
      "Epoch 6/50\n",
      "20853/20853 [==============================] - 13s 617us/step - loss: 2.6625 - categorical_accuracy: 0.1647 - val_loss: 3.1232 - val_categorical_accuracy: 0.1243\n",
      "Epoch 7/50\n",
      "20853/20853 [==============================] - 13s 608us/step - loss: 2.5765 - categorical_accuracy: 0.1758 - val_loss: 3.3855 - val_categorical_accuracy: 0.1075\n",
      "Epoch 8/50\n",
      "20853/20853 [==============================] - 13s 617us/step - loss: 2.5036 - categorical_accuracy: 0.1974 - val_loss: 3.3892 - val_categorical_accuracy: 0.1109\n",
      "Epoch 9/50\n",
      "20853/20853 [==============================] - 13s 611us/step - loss: 2.4252 - categorical_accuracy: 0.2155 - val_loss: 3.4884 - val_categorical_accuracy: 0.1105\n",
      "Epoch 10/50\n",
      "20853/20853 [==============================] - 13s 612us/step - loss: 2.3542 - categorical_accuracy: 0.2368 - val_loss: 3.6335 - val_categorical_accuracy: 0.0811\n",
      "Epoch 11/50\n",
      "20853/20853 [==============================] - 13s 613us/step - loss: 2.2687 - categorical_accuracy: 0.2626 - val_loss: 4.2339 - val_categorical_accuracy: 0.0876\n",
      "Epoch 12/50\n",
      "20853/20853 [==============================] - 13s 613us/step - loss: 2.1877 - categorical_accuracy: 0.2886 - val_loss: 4.3094 - val_categorical_accuracy: 0.0777\n",
      "Epoch 13/50\n",
      "20853/20853 [==============================] - 13s 610us/step - loss: 2.1224 - categorical_accuracy: 0.3174 - val_loss: 4.5215 - val_categorical_accuracy: 0.0833\n",
      "Epoch 14/50\n",
      "20853/20853 [==============================] - 13s 613us/step - loss: 2.0651 - categorical_accuracy: 0.3333 - val_loss: 4.8171 - val_categorical_accuracy: 0.0958\n",
      "Epoch 15/50\n",
      "20853/20853 [==============================] - 13s 621us/step - loss: 2.0073 - categorical_accuracy: 0.3575 - val_loss: 5.1964 - val_categorical_accuracy: 0.0798\n",
      "Epoch 16/50\n",
      "20853/20853 [==============================] - 14s 693us/step - loss: 1.9443 - categorical_accuracy: 0.3772 - val_loss: 5.2306 - val_categorical_accuracy: 0.0893\n",
      "Epoch 17/50\n",
      "20853/20853 [==============================] - 10s 488us/step - loss: 1.8884 - categorical_accuracy: 0.4003 - val_loss: 5.7015 - val_categorical_accuracy: 0.1010\n",
      "Epoch 18/50\n",
      "20853/20853 [==============================] - 10s 472us/step - loss: 1.8622 - categorical_accuracy: 0.4166 - val_loss: 5.1982 - val_categorical_accuracy: 0.0937\n",
      "Epoch 19/50\n",
      "20853/20853 [==============================] - 10s 490us/step - loss: 1.8312 - categorical_accuracy: 0.4307 - val_loss: 5.2318 - val_categorical_accuracy: 0.0984\n",
      "Epoch 20/50\n",
      "20853/20853 [==============================] - 10s 496us/step - loss: 1.7795 - categorical_accuracy: 0.4399 - val_loss: 5.6302 - val_categorical_accuracy: 0.0842\n",
      "Epoch 21/50\n",
      "20853/20853 [==============================] - 11s 519us/step - loss: 1.7564 - categorical_accuracy: 0.4548 - val_loss: 6.4046 - val_categorical_accuracy: 0.0984\n",
      "Epoch 22/50\n",
      "20853/20853 [==============================] - 10s 484us/step - loss: 1.7380 - categorical_accuracy: 0.4693 - val_loss: 5.8087 - val_categorical_accuracy: 0.0777\n",
      "Epoch 23/50\n",
      "20853/20853 [==============================] - 13s 608us/step - loss: 1.6967 - categorical_accuracy: 0.4876 - val_loss: 6.1810 - val_categorical_accuracy: 0.0898\n",
      "Epoch 24/50\n",
      "20853/20853 [==============================] - 13s 643us/step - loss: 1.6681 - categorical_accuracy: 0.4925 - val_loss: 6.2339 - val_categorical_accuracy: 0.0950\n",
      "Epoch 25/50\n",
      "20853/20853 [==============================] - 12s 571us/step - loss: 1.6308 - categorical_accuracy: 0.5085 - val_loss: 6.2977 - val_categorical_accuracy: 0.0807\n",
      "Epoch 26/50\n",
      "20853/20853 [==============================] - 12s 593us/step - loss: 1.6072 - categorical_accuracy: 0.5196 - val_loss: 6.6293 - val_categorical_accuracy: 0.0937\n",
      "Epoch 27/50\n",
      "20853/20853 [==============================] - 14s 664us/step - loss: 1.5757 - categorical_accuracy: 0.5346 - val_loss: 6.0798 - val_categorical_accuracy: 0.0984\n",
      "Epoch 28/50\n",
      "20853/20853 [==============================] - 13s 616us/step - loss: 1.5619 - categorical_accuracy: 0.5402 - val_loss: 6.0615 - val_categorical_accuracy: 0.0816\n",
      "Epoch 29/50\n",
      "20853/20853 [==============================] - 13s 620us/step - loss: 1.5552 - categorical_accuracy: 0.5479 - val_loss: 6.3895 - val_categorical_accuracy: 0.0902\n",
      "Epoch 30/50\n",
      "20853/20853 [==============================] - 13s 603us/step - loss: 1.5281 - categorical_accuracy: 0.5601 - val_loss: 6.6437 - val_categorical_accuracy: 0.0807\n",
      "Epoch 31/50\n",
      "20853/20853 [==============================] - 13s 611us/step - loss: 1.5136 - categorical_accuracy: 0.5642 - val_loss: 6.9412 - val_categorical_accuracy: 0.0781\n",
      "Epoch 32/50\n",
      "20853/20853 [==============================] - 13s 618us/step - loss: 1.4941 - categorical_accuracy: 0.5767 - val_loss: 7.0856 - val_categorical_accuracy: 0.1036\n",
      "Epoch 33/50\n",
      "20853/20853 [==============================] - 13s 613us/step - loss: 1.5063 - categorical_accuracy: 0.5787 - val_loss: 6.8697 - val_categorical_accuracy: 0.0703\n",
      "Epoch 34/50\n",
      "20853/20853 [==============================] - 13s 632us/step - loss: 1.5124 - categorical_accuracy: 0.5835 - val_loss: 6.4919 - val_categorical_accuracy: 0.0781\n",
      "Epoch 35/50\n",
      "20853/20853 [==============================] - 13s 628us/step - loss: 1.4994 - categorical_accuracy: 0.5801 - val_loss: 7.7502 - val_categorical_accuracy: 0.0751\n",
      "Epoch 36/50\n",
      "20853/20853 [==============================] - 12s 597us/step - loss: 1.5211 - categorical_accuracy: 0.5810 - val_loss: 7.5894 - val_categorical_accuracy: 0.0937\n",
      "Epoch 37/50\n",
      "20853/20853 [==============================] - 12s 598us/step - loss: 1.5308 - categorical_accuracy: 0.5844 - val_loss: 6.3704 - val_categorical_accuracy: 0.0837\n",
      "Epoch 38/50\n",
      "20853/20853 [==============================] - 12s 594us/step - loss: 1.5378 - categorical_accuracy: 0.5902 - val_loss: 5.9777 - val_categorical_accuracy: 0.0742\n",
      "Epoch 39/50\n",
      "20853/20853 [==============================] - 12s 591us/step - loss: 1.5669 - categorical_accuracy: 0.5873 - val_loss: 6.9161 - val_categorical_accuracy: 0.0703\n",
      "Epoch 40/50\n",
      "20853/20853 [==============================] - 12s 592us/step - loss: 1.5763 - categorical_accuracy: 0.5869 - val_loss: 7.1129 - val_categorical_accuracy: 0.0729\n",
      "Epoch 41/50\n",
      "20853/20853 [==============================] - 13s 602us/step - loss: 1.5832 - categorical_accuracy: 0.5837 - val_loss: 7.8883 - val_categorical_accuracy: 0.0703\n",
      "Epoch 42/50\n",
      "20853/20853 [==============================] - 12s 563us/step - loss: 1.6124 - categorical_accuracy: 0.5827 - val_loss: 7.2006 - val_categorical_accuracy: 0.0906\n",
      "Epoch 43/50\n",
      "20853/20853 [==============================] - 15s 705us/step - loss: 1.6398 - categorical_accuracy: 0.5798 - val_loss: 6.6122 - val_categorical_accuracy: 0.0678\n",
      "Epoch 44/50\n",
      "20853/20853 [==============================] - 15s 742us/step - loss: 1.6598 - categorical_accuracy: 0.5827 - val_loss: 5.7449 - val_categorical_accuracy: 0.0527\n",
      "Epoch 45/50\n",
      "20853/20853 [==============================] - 16s 752us/step - loss: 1.6558 - categorical_accuracy: 0.5788 - val_loss: 6.6948 - val_categorical_accuracy: 0.0773\n",
      "Epoch 46/50\n",
      "20853/20853 [==============================] - 16s 753us/step - loss: 1.6779 - categorical_accuracy: 0.5754 - val_loss: 6.7228 - val_categorical_accuracy: 0.0760\n",
      "Epoch 47/50\n",
      "20853/20853 [==============================] - 14s 688us/step - loss: 1.7078 - categorical_accuracy: 0.5734 - val_loss: 7.3007 - val_categorical_accuracy: 0.0885\n"
     ]
    },
    {
     "name": "stdout",
     "output_type": "stream",
     "text": [
      "Epoch 48/50\n",
      "20853/20853 [==============================] - 12s 579us/step - loss: 1.7206 - categorical_accuracy: 0.5621 - val_loss: 6.2530 - val_categorical_accuracy: 0.0617\n",
      "Epoch 49/50\n",
      "20853/20853 [==============================] - 12s 590us/step - loss: 1.7249 - categorical_accuracy: 0.5695 - val_loss: 7.4907 - val_categorical_accuracy: 0.0846\n",
      "Epoch 50/50\n",
      "20853/20853 [==============================] - 16s 750us/step - loss: 1.7640 - categorical_accuracy: 0.5623 - val_loss: 6.6202 - val_categorical_accuracy: 0.0656\n"
     ]
    }
   ],
   "source": [
    "def train_my_model(train_df):\n",
    "    train_X, train_Y, dev_X, dev_Y, mean, std = process(train_df)\n",
    "    model = models.Sequential()\n",
    "    model.add(layers.Dense(1024, activation='relu',input_shape=(train_X.shape[1],)))\n",
    "    model.add(layers.Dense(1024, activation='relu'))\n",
    "    model.add(layers.Dense(512, activation='relu'))\n",
    "    model.add(layers.Dense(256, activation='relu'))\n",
    "    model.add(layers.Dense(199, activation='softmax'))\n",
    "    model.compile(optimizer = 'rmsprop',loss = 'categorical_crossentropy', metrics = ['categorical_accuracy'])\n",
    "    history = model.fit(train_X, train_Y, validation_data = (dev_X, dev_Y), epochs = 50, batch_size = 32)\n",
    "    return model, mean, std, history\n",
    "model, mean, std, history = train_my_model(train_df)"
   ]
  },
  {
   "cell_type": "code",
   "execution_count": 4,
   "metadata": {},
   "outputs": [
    {
     "data": {
      "text/plain": [
       "<matplotlib.figure.Figure at 0x7f48631c33c8>"
      ]
     },
     "metadata": {},
     "output_type": "display_data"
    },
    {
     "data": {
      "text/plain": [
       "<matplotlib.figure.Figure at 0x7f4862bb9c50>"
      ]
     },
     "metadata": {},
     "output_type": "display_data"
    }
   ],
   "source": [
    "import matplotlib.pyplot as plt\n",
    "val_acc = history.history['val_loss']\n",
    "acc = history.history['val_categorical_accuracy']\n",
    "loss = history.history['loss']\n",
    "val_loss = history.history['categorical_accuracy']\n",
    "\n",
    "epochs = range(len(acc))\n",
    "\n",
    "plt.plot(epochs, acc, 'bo', label='Training acc')\n",
    "plt.plot(epochs, val_acc, 'b', label='Validation acc')\n",
    "plt.title('Training and validation accuracy')\n",
    "plt.legend()\n",
    "\n",
    "plt.figure()\n",
    "\n",
    "plt.plot(epochs, loss, 'bo', label='Training loss')\n",
    "plt.plot(epochs, val_loss, 'b', label='Validation loss')\n",
    "plt.title('Training and validation loss')\n",
    "plt.legend()\n",
    "\n",
    "plt.show()"
   ]
  },
  {
   "cell_type": "code",
   "execution_count": 5,
   "metadata": {},
   "outputs": [],
   "source": [
    "def make_my_predictions(test_df, sample_prediction_df):\n",
    "    df, _, _, _, _, _ = process(test_df, mean = mean, std = std, pred = True)\n",
    "    pdf = model.predict(df)\n",
    "    for i in range(sample_prediction_df.shape[1]):\n",
    "        sample_prediction_df.iloc[: , i] = pdf[0][i]\n",
    "    return sample_prediction_df"
   ]
  },
  {
   "cell_type": "code",
   "execution_count": 6,
   "metadata": {},
   "outputs": [
    {
     "name": "stdout",
     "output_type": "stream",
     "text": [
      "Your submission file has been saved!  Once you `Commit` your Notebook and it finishes running, you can submit the file to the competition from the Notebook Viewer `Output` tab.\n"
     ]
    }
   ],
   "source": [
    "for (test_df, sample_prediction_df) in env.iter_test():\n",
    "    predictions_df = make_my_predictions(test_df, sample_prediction_df)\n",
    "    env.predict(predictions_df)\n",
    "\n",
    "env.write_submission_file()"
   ]
  }
 ],
 "metadata": {
  "kernelspec": {
   "display_name": "Python 3",
   "language": "python",
   "name": "python3"
  },
  "language_info": {
   "codemirror_mode": {
    "name": "ipython",
    "version": 3
   },
   "file_extension": ".py",
   "mimetype": "text/x-python",
   "name": "python",
   "nbconvert_exporter": "python",
   "pygments_lexer": "ipython3",
   "version": "3.6.8"
  }
 },
 "nbformat": 4,
 "nbformat_minor": 2
}
