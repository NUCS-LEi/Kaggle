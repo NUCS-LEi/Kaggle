{
 "cells": [
  {
   "cell_type": "code",
   "execution_count": 1,
   "metadata": {},
   "outputs": [],
   "source": [
    "import os\n",
    "import numpy as np\n",
    "import h5py\n",
    "import sys"
   ]
  },
  {
   "cell_type": "code",
   "execution_count": 2,
   "metadata": {},
   "outputs": [
    {
     "name": "stdout",
     "output_type": "stream",
     "text": [
      "[[1. 2.]\n",
      " [3. 4.]\n",
      " [5. 6.]]\n",
      "[3. 4.]\n",
      "[[-2. -2.]\n",
      " [ 0.  0.]\n",
      " [ 2.  2.]]\n"
     ]
    }
   ],
   "source": [
    "a=np.array([[1,2],[3,4],[5,6]], dtype=float)\n",
    "print a\n",
    "m=a.mean(axis=0)\n",
    "print m\n",
    "a-=m\n",
    "print a"
   ]
  },
  {
   "cell_type": "code",
   "execution_count": 3,
   "metadata": {},
   "outputs": [],
   "source": [
    "def print_example(dict,c):\n",
    "    i=0\n",
    "    for k,v in dict.items():\n",
    "        if i>c:\n",
    "            break\n",
    "        print (k,v)\n",
    "        i+=1\n",
    "def process_transaction(dict, transaction):\n",
    "    card_id=transaction[1]\n",
    "    if not card_id in dict:\n",
    "        dict[card_id]=np.zeros(7,dtype=float)\n",
    "    # quantity of transactions\n",
    "    dict[card_id][0]+=1\n",
    "    # total purchase price amount\n",
    "    dict[card_id][1]+=1\n",
    "    # months since first transaction\n",
    "    dict[card_id][2]+=1\n",
    "    # quantity of approved transactions\n",
    "    dict[card_id][3]+=1    "
   ]
  },
  {
   "cell_type": "code",
   "execution_count": 4,
   "metadata": {},
   "outputs": [
    {
     "name": "stdout",
     "output_type": "stream",
     "text": [
      "12583192\n",
      "325541\n",
      "(325541, 7)\n",
      "(325541, 2)\n"
     ]
    }
   ],
   "source": [
    "data_dir='/home/lei/ML/Data/Kaggle/elo-merchant-category-recommendation'\n",
    "data_file=os.path.join(data_dir,'train.h5')\n",
    "features=7\n",
    "\n",
    "if not os.path.exists(data_file):\n",
    "    f=open(os.path.join(data_dir,'new_merchant_transactions.csv'))\n",
    "    cards={}\n",
    "    for line in f:\n",
    "        values=line.split(',')\n",
    "        process_transaction(cards,values)\n",
    "    f.close()\n",
    "    f=open(os.path.join(data_dir,'historical_transactions.csv'))\n",
    "    for line in f:\n",
    "        values=line.split(',')\n",
    "        process_transaction(cards,values)\n",
    "    f.close()\n",
    "    count=len(cards)\n",
    "    print sys.getsizeof(cards)\n",
    "    \n",
    "    matrix=np.zeros((count,features),dtype=float)\n",
    "    index={}\n",
    "    i=0\n",
    "    for k,v in cards.items():\n",
    "        index[k]=i\n",
    "        matrix[i]=v\n",
    "        i+=1\n",
    "    print len(index)\n",
    "    print matrix.shape\n",
    "    ind = np.array([[k,v] for k,v in index.items()])\n",
    "    print ind.shape\n",
    "    h5f = h5py.File(data_file,'w')\n",
    "    h5f.create_dataset('train',data=matrix)\n",
    "    h5f.create_dataset('index',data=ind)\n",
    "    h5f.close()\n",
    "else:\n",
    "    print 'file exist'"
   ]
  },
  {
   "cell_type": "code",
   "execution_count": 7,
   "metadata": {},
   "outputs": [
    {
     "name": "stdout",
     "output_type": "stream",
     "text": [
      "('C_ID_f5f6bd84cb', 0)\n",
      "('C_ID_96f79ed036', 1)\n",
      "('C_ID_063fb0c18f', 2)\n",
      "('C_ID_4f1b6b0cfa', 3)\n",
      "('C_ID_e68e6a37e7', 4)\n",
      "('C_ID_323c1cb8c0', 5)\n",
      "('C_ID_da7520b2d4', 6)\n",
      "('C_ID_408d9db984', 7)\n",
      "('C_ID_0bb93dbb14', 8)\n",
      "('C_ID_f2bd288e26', 9)\n",
      "('C_ID_265b8fe0c4', 10)\n",
      "0\n",
      "123624\n",
      "201918\n"
     ]
    }
   ],
   "source": [
    "h5f=h5py.File(data_file,'r')\n",
    "train_matrix=h5f['train'][:]\n",
    "index_matrix=h5f['index'][:]\n",
    "h5f.close()\n",
    "i=0\n",
    "train_index={}\n",
    "for item in index_matrix:\n",
    "    train_index[item[0]]=int(item[1])\n",
    "# for i in range(100):\n",
    "#     print train_matrix[i]\n",
    "print_example(train_index,10)\n",
    "        \n",
    "i,j,k=0,0,0\n",
    "f=open(os.path.join(data_dir, 'test.csv'))\n",
    "for line in f:\n",
    "    values=line.split(',')\n",
    "    id=values[1]\n",
    "    j+=1\n",
    "    if not id in train_index:\n",
    "        print id\n",
    "        i+=1\n",
    "f.close()\n",
    "f=open(os.path.join(data_dir,'train.csv'))\n",
    "for line in f:\n",
    "    values=line.split(',')\n",
    "    id=values[1]\n",
    "    k+=1\n",
    "    if not id in train_index:\n",
    "        print id\n",
    "        i+=1\n",
    "f.close()\n",
    "print i,j,k"
   ]
  },
  {
   "cell_type": "code",
   "execution_count": null,
   "metadata": {},
   "outputs": [],
   "source": [
    "import keras\n",
    "from keras import models\n",
    "from keras import layers\n",
    "keras.__version__\n",
    "def build_model():\n",
    "    model=models.Sequential()\n",
    "    model.add(layers.Dense(64,activation='relu',input_shape=(train_data.shape[1],)))\n",
    "    model.add(layers.Dense(64,activation='relu'))\n",
    "    model.add(layers.Dense(1))\n",
    "    model.compile(optimizer='rmsprop',loss='mse',metrics=['mae'])\n",
    "    return model\n",
    "model=build_model()\n",
    "# Train the model (in silent mode, verbose=0)\n",
    "history=model.fit(partial_train_data, partial_train_targets,validation_data=(val_data, val_targets),\n",
    "                    epochs=num_epochs, batch_size=1, verbose=0)\n",
    "test_mse_score, test_mae_score = model.evaluate(test_data, test_targets)"
   ]
  }
 ],
 "metadata": {
  "kernelspec": {
   "display_name": "Python 2",
   "language": "python",
   "name": "python2"
  },
  "language_info": {
   "codemirror_mode": {
    "name": "ipython",
    "version": 2
   },
   "file_extension": ".py",
   "mimetype": "text/x-python",
   "name": "python",
   "nbconvert_exporter": "python",
   "pygments_lexer": "ipython2",
   "version": "2.7.15rc1"
  }
 },
 "nbformat": 4,
 "nbformat_minor": 2
}
