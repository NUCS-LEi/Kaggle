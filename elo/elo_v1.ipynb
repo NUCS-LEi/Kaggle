{
 "cells": [
  {
   "cell_type": "code",
   "execution_count": 16,
   "metadata": {},
   "outputs": [
    {
     "name": "stdout",
     "output_type": "stream",
     "text": [
      "4\n",
      "1\n"
     ]
    }
   ],
   "source": [
    "import os\n",
    "import numpy as np\n",
    "import h5py\n",
    "import sys\n",
    "\n",
    "# a=np.array([[1,2],[3,4],[5,6]], dtype=float)\n",
    "# print a\n",
    "# m=a.mean(axis=0)\n",
    "# print m\n",
    "# a-=m\n",
    "# print a\n",
    "# v='Y'\n",
    "# vv=1 if 'N'==v else 0\n",
    "# print vv\n",
    "m='2018-10'\n",
    "mm=m.split('-')\n",
    "_m=(2019-int(mm[0]))*12+2-int(mm[1])\n",
    "print _m\n",
    "\n",
    "print ord('B')-ord('A')\n",
    "\n",
    "def print_example(dict,c):\n",
    "    i=0\n",
    "    for k,v in dict.items():\n",
    "        if i>c:\n",
    "            break\n",
    "        print (k,v)\n",
    "        i+=1\n",
    "def process_transaction(dict,transaction,length):\n",
    "    card_id=transaction[1]\n",
    "    if not card_id in dict:\n",
    "        dict[card_id]=np.zeros(length,dtype=float)\n",
    "    # quantity of transactions\n",
    "    dict[card_id][0]+=1\n",
    "    # total purchase price amount\n",
    "    dict[card_id][1]+=float(transaction[9])\n",
    "    # earliset months month lag\n",
    "    lag=int(transaction[8])\n",
    "    dict[card_id][2]=lag if lag<dict[card_id][2] else dict[card_id][2]\n",
    "    # quantity of approved transactions\n",
    "    dict[card_id][3]+=1 if 'Y'==transaction[0] else 0\n",
    "    #feature_1\n",
    "    dict[card_id][4]=0\n",
    "    #feature_2\n",
    "    dict[card_id][5]=0\n",
    "    #feature_3\n",
    "    dict[card_id][6]=0\n",
    "    #active month\n",
    "    dict[card_id][7]=0\n",
    "#     #category_1 (Y, N)\n",
    "#     dict[card_id][7]+=1 if 'Y'==transaction[3] else 0\n",
    "#     #category_2 ('',1,2,3,4,5)\n",
    "#     c2=transaction[11]\n",
    "#     dict[card_id][8]=c2 if c2 else 0\n",
    "#     #category_3 ('',A,B,C)\n",
    "#     c3=transaction[5]\n",
    "#     dict[card_id][9]=ord(c3)-ord('A') if c3 else -1\n",
    "def process_train(dict,line):\n",
    "    card_id=line[1]\n",
    "    #feature_1\n",
    "    dict[card_id][4]=line[2]\n",
    "    #feature_2\n",
    "    dict[card_id][5]=line[3]\n",
    "    #feature_3\n",
    "    dict[card_id][6]=line[4]\n",
    "    #active month\n",
    "    m=line[0].split('-')\n",
    "    dict[card_id][7]=(2019-int(m[0]))*12+2-int(m[1])"
   ]
  },
  {
   "cell_type": "code",
   "execution_count": 9,
   "metadata": {},
   "outputs": [
    {
     "name": "stdout",
     "output_type": "stream",
     "text": [
      "12583192\n",
      "(201917, 7) (201917,) (123623, 7) 123623\n",
      "[95.33468702 11.0902082  -7.87777651 87.59950871  3.1053106   1.74541024\n",
      "  0.56556902]\n",
      "[1.06910557e+02 1.34491274e+04 3.84330370e+00 1.01631439e+02\n",
      " 1.18615665e+00 7.51359876e-01 4.95682059e-01]\n",
      "(123623, 2)\n"
     ]
    }
   ],
   "source": [
    "data_dir='/home/lei/ML/Data/Kaggle/elo-merchant-category-recommendation'\n",
    "data_file=os.path.join(data_dir,'train.h5')\n",
    "features=8\n",
    "\n",
    "if not os.path.exists(data_file):\n",
    "    cards,target_index,test_index={},{},{}\n",
    "    f=open(os.path.join(data_dir,'new_merchant_transactions.csv'))\n",
    "    next(f)\n",
    "    for line in f:\n",
    "        values=line.split(',')\n",
    "        process_transaction(cards,values,features)\n",
    "    f.close()\n",
    "    f=open(os.path.join(data_dir,'historical_transactions.csv'))\n",
    "    next(f)\n",
    "    for line in f:\n",
    "        values=line.split(',')\n",
    "        process_transaction(cards,values,features)\n",
    "    f.close()\n",
    "    count=len(cards)\n",
    "    train_size=0\n",
    "    f=open(os.path.join(data_dir,'train.csv'))\n",
    "    next(f)\n",
    "    for line in f:\n",
    "        values=line.split(',')\n",
    "        target_index[values[1]]=values[5]\n",
    "        process_train(cards,values)\n",
    "        train_size+=1\n",
    "    f.close()\n",
    "    f=open(os.path.join(data_dir,'test.csv'))\n",
    "    next(f)\n",
    "    for line in f:\n",
    "        values=line.split(',')\n",
    "        process_train(cards,values)\n",
    "    f.close()\n",
    "    print sys.getsizeof(cards)\n",
    "    \n",
    "    train=np.zeros((train_size,features),dtype=float)\n",
    "    target=np.zeros(train_size,dtype=float)\n",
    "    test=np.zeros((count-train_size,features),dtype=float)\n",
    "    i,j=0,0\n",
    "    for k,v in cards.items():\n",
    "        if k in target_index:\n",
    "            train[i]=v\n",
    "            target[i]=target_index[k]\n",
    "            i+=1\n",
    "        else:\n",
    "            test[j]=v\n",
    "            test_index[k]=j\n",
    "            j+=1\n",
    "    print train.shape,target.shape,test.shape,len(test_index)\n",
    "    \n",
    "    mean=train.mean(axis=0)\n",
    "    print mean\n",
    "    train-=mean\n",
    "    std=train.std(axis=0)\n",
    "    print std\n",
    "    train/=std\n",
    "    test-=mean\n",
    "    test/=std\n",
    "    ind = np.array([[k,v] for k,v in test_index.items()])\n",
    "    print ind.shape\n",
    "    h5f = h5py.File(data_file,'w')\n",
    "    h5f.create_dataset('train',data=train)\n",
    "    h5f.create_dataset('target',data=target)\n",
    "    h5f.create_dataset('test',data=test)\n",
    "    h5f.create_dataset('test_index',data=ind)\n",
    "    h5f.close()\n",
    "else:\n",
    "    print 'file exist'"
   ]
  },
  {
   "cell_type": "code",
   "execution_count": 10,
   "metadata": {},
   "outputs": [
    {
     "name": "stdout",
     "output_type": "stream",
     "text": [
      "(201917, 7) (201917,) (123623, 7) 123623\n"
     ]
    }
   ],
   "source": [
    "h5f=h5py.File(data_file,'r')\n",
    "_train=h5f['train'][:]\n",
    "_target=h5f['target'][:]\n",
    "_test=h5f['test'][:]\n",
    "index=h5f['test_index'][:]\n",
    "h5f.close()\n",
    "\n",
    "test_index={}\n",
    "for item in index:\n",
    "    test_index[item[0]]=int(item[1])\n",
    "print _train.shape,_target.shape,_test.shape,len(test_index)"
   ]
  },
  {
   "cell_type": "code",
   "execution_count": 11,
   "metadata": {},
   "outputs": [
    {
     "name": "stdout",
     "output_type": "stream",
     "text": [
      "Train on 151917 samples, validate on 49999 samples\n",
      "Epoch 1/15\n",
      "151917/151917 [==============================] - 11s 73us/step - loss: 15.0125 - mean_absolute_error: 1.5755 - val_loss: 14.5748 - val_mean_absolute_error: 1.5922\n",
      "Epoch 2/15\n",
      "151917/151917 [==============================] - 11s 73us/step - loss: 14.9591 - mean_absolute_error: 1.5861 - val_loss: 14.5978 - val_mean_absolute_error: 1.6360\n",
      "Epoch 3/15\n",
      "151917/151917 [==============================] - 11s 74us/step - loss: 14.9125 - mean_absolute_error: 1.5983 - val_loss: 14.6146 - val_mean_absolute_error: 1.5761\n",
      "Epoch 4/15\n",
      "151917/151917 [==============================] - 11s 72us/step - loss: 14.9644 - mean_absolute_error: 1.6048 - val_loss: 14.7291 - val_mean_absolute_error: 1.5709\n",
      "Epoch 5/15\n",
      "151917/151917 [==============================] - 11s 74us/step - loss: 15.0051 - mean_absolute_error: 1.6077 - val_loss: 14.6209 - val_mean_absolute_error: 1.5555\n",
      "Epoch 6/15\n",
      "151917/151917 [==============================] - 11s 72us/step - loss: 14.9607 - mean_absolute_error: 1.6116 - val_loss: 14.5769 - val_mean_absolute_error: 1.5812\n",
      "Epoch 7/15\n",
      "151917/151917 [==============================] - 11s 71us/step - loss: 14.9482 - mean_absolute_error: 1.6155 - val_loss: 14.5942 - val_mean_absolute_error: 1.5642\n",
      "Epoch 8/15\n",
      "151917/151917 [==============================] - 11s 73us/step - loss: 14.9749 - mean_absolute_error: 1.6172 - val_loss: 14.7250 - val_mean_absolute_error: 1.5588\n",
      "Epoch 9/15\n",
      "151917/151917 [==============================] - 11s 73us/step - loss: 14.9933 - mean_absolute_error: 1.6170 - val_loss: 14.6062 - val_mean_absolute_error: 1.6466\n",
      "Epoch 10/15\n",
      "151917/151917 [==============================] - 11s 74us/step - loss: 15.0185 - mean_absolute_error: 1.6176 - val_loss: 15.1872 - val_mean_absolute_error: 1.6181\n",
      "Epoch 11/15\n",
      "151917/151917 [==============================] - 11s 75us/step - loss: 14.9722 - mean_absolute_error: 1.6146 - val_loss: 14.6799 - val_mean_absolute_error: 1.6981\n",
      "Epoch 12/15\n",
      "151917/151917 [==============================] - 11s 74us/step - loss: 14.9897 - mean_absolute_error: 1.6181 - val_loss: 14.5595 - val_mean_absolute_error: 1.5817\n",
      "Epoch 13/15\n",
      "151917/151917 [==============================] - 11s 73us/step - loss: 14.9928 - mean_absolute_error: 1.6156 - val_loss: 14.5985 - val_mean_absolute_error: 1.5699\n",
      "Epoch 14/15\n",
      "151917/151917 [==============================] - 11s 73us/step - loss: 15.0133 - mean_absolute_error: 1.6075 - val_loss: 14.6181 - val_mean_absolute_error: 1.6440\n",
      "Epoch 15/15\n",
      "151917/151917 [==============================] - 11s 73us/step - loss: 15.1392 - mean_absolute_error: 1.6048 - val_loss: 14.5748 - val_mean_absolute_error: 1.5636\n"
     ]
    }
   ],
   "source": [
    "import keras\n",
    "from keras import models\n",
    "from keras import layers\n",
    "keras.__version__\n",
    "def build_model():\n",
    "    model=models.Sequential()\n",
    "    model.add(layers.Dense(128,activation='relu',input_shape=(_train.shape[1],)))\n",
    "    model.add(layers.Dense(128,activation='relu'))\n",
    "    model.add(layers.Dense(64,activation='relu'))\n",
    "    model.add(layers.Dense(1))\n",
    "    model.compile(optimizer='rmsprop',loss='mse',metrics=['mae'])\n",
    "    return model\n",
    "\n",
    "num_epochs=15\n",
    "train_data=_train[:151917]\n",
    "train_target=_target[:151917]\n",
    "val_data=_train[151918:]\n",
    "val_target=_target[151918:]\n",
    "# test_data=_train[151918:]\n",
    "# test_target=_target[151918:]\n",
    "model=build_model()\n",
    "# Train the model (in silent mode, verbose=0)\n",
    "history=model.fit(train_data, train_target,validation_data=(val_data,val_target),epochs=num_epochs, batch_size=10)\n",
    "# test_mse_score,test_mae_score = model.evaluate(test_data, test_target)\n",
    "# print test_mse_score,test_mae_score"
   ]
  },
  {
   "cell_type": "code",
   "execution_count": 12,
   "metadata": {},
   "outputs": [
    {
     "data": {
      "image/png": "[encoded data removed]",
      "text/plain": [
       "<Figure size 432x288 with 1 Axes>"
      ]
     },
     "metadata": {
      "needs_background": "light"
     },
     "output_type": "display_data"
    },
    {
     "data": {
      "image/png": "[encoded data removed]",
      "text/plain": [
       "<Figure size 432x288 with 1 Axes>"
      ]
     },
     "metadata": {
      "needs_background": "light"
     },
     "output_type": "display_data"
    }
   ],
   "source": [
    "import matplotlib.pyplot as plt\n",
    "val_acc = history.history['val_mean_absolute_error']\n",
    "acc = history.history['mean_absolute_error']\n",
    "loss = history.history['loss']\n",
    "val_loss = history.history['val_loss']\n",
    "\n",
    "epochs = range(len(acc))\n",
    "\n",
    "plt.plot(epochs, acc, 'bo', label='Training acc')\n",
    "plt.plot(epochs, val_acc, 'b', label='Validation acc')\n",
    "plt.title('Training and validation accuracy')\n",
    "plt.legend()\n",
    "\n",
    "plt.figure()\n",
    "\n",
    "plt.plot(epochs, loss, 'bo', label='Training loss')\n",
    "plt.plot(epochs, val_loss, 'b', label='Validation loss')\n",
    "plt.title('Training and validation loss')\n",
    "plt.legend()\n",
    "\n",
    "plt.show()"
   ]
  },
  {
   "cell_type": "code",
   "execution_count": 13,
   "metadata": {},
   "outputs": [],
   "source": [
    "pred_file=os.path.join(data_dir,'pred.csv')\n",
    "input_data=np.zeros(_test.shape,dtype=float)\n",
    "f=open(os.path.join(data_dir,'test.csv'))\n",
    "next(f)\n",
    "i=0\n",
    "id=[]\n",
    "for line in f:\n",
    "    values=line.split(',')\n",
    "    input_data[i]=_test[test_index[values[1]]]\n",
    "    id.append(values[1])\n",
    "    i+=1\n",
    "f.close()\n",
    "pred=model.predict(input_data)\n",
    "out=open(pred_file,'w')\n",
    "out.write('card_id,target\\n')\n",
    "for i in range(len(pred)):\n",
    "    out.write(id[i]+','+str(pred[i])[1:-1]+'\\n')\n",
    "    i+=1\n",
    "out.close()"
   ]
  },
  {
   "cell_type": "code",
   "execution_count": null,
   "metadata": {},
   "outputs": [],
   "source": []
  }
 ],
 "metadata": {
  "kernelspec": {
   "display_name": "Python 2",
   "language": "python",
   "name": "python2"
  },
  "language_info": {
   "codemirror_mode": {
    "name": "ipython",
    "version": 2
   },
   "file_extension": ".py",
   "mimetype": "text/x-python",
   "name": "python",
   "nbconvert_exporter": "python",
   "pygments_lexer": "ipython2",
   "version": "2.7.15rc1"
  }
 },
 "nbformat": 4,
 "nbformat_minor": 2
}
